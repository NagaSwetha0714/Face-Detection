{
 "cells": [
  {
   "cell_type": "code",
   "execution_count": 13,
   "metadata": {},
   "outputs": [],
   "source": [
    "import cv2\n",
    "import dlib\n",
    "\n",
    "video = cv2.VideoCapture(0)\n",
    "detector = dlib.get_frontal_face_detector()\n",
    "\n",
    "while(True):\n",
    "    ret,frame = video.read()\n",
    "    frame = cv2.flip(frame,1)\n",
    "    \n",
    "    gray = cv2.cvtColor(frame,cv2.COLOR_BGR2GRAY)\n",
    "    faces = detector(gray)\n",
    "    \n",
    "    no_of_faces = 0\n",
    "    \n",
    "    for face in faces:\n",
    "        x,y = face.left(),face.top()\n",
    "        ht,wt = face.right(),face.bottom()\n",
    "        cv2.rectangle(frame,(x,y),(ht,wt),(0,0,255),2)\n",
    "        no_of_faces = no_of_faces + 1\n",
    "        \n",
    "        cv2.putText(frame,'Face'+str(no_of_faces),(x-12,y-12),cv2.FONT_HERSHEY_SIMPLEX,0.7,(0,255,0),2)\n",
    "        \n",
    "    cv2.imshow('faces',frame)\n",
    "    \n",
    "    if cv2.waitKey(1)==ord('s'):   # Press 's' to exit\n",
    "        break\n",
    "        \n",
    "video.release()\n",
    "cv2.destroyAllWindows()"
   ]
  },
  {
   "cell_type": "code",
   "execution_count": null,
   "metadata": {},
   "outputs": [],
   "source": []
  }
 ],
 "metadata": {
  "kernelspec": {
   "display_name": "Python 3 (ipykernel)",
   "language": "python",
   "name": "python3"
  },
  "language_info": {
   "codemirror_mode": {
    "name": "ipython",
    "version": 3
   },
   "file_extension": ".py",
   "mimetype": "text/x-python",
   "name": "python",
   "nbconvert_exporter": "python",
   "pygments_lexer": "ipython3",
   "version": "3.6.13"
  }
 },
 "nbformat": 4,
 "nbformat_minor": 4
}
